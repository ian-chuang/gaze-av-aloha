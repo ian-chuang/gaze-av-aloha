{
 "cells": [
  {
   "cell_type": "code",
   "execution_count": 10,
   "id": "dc24f6af",
   "metadata": {},
   "outputs": [],
   "source": [
    "import torch\n",
    "from lerobot.common.datasets.lerobot_dataset import LeRobotDataset\n"
   ]
  },
  {
   "cell_type": "code",
   "execution_count": 11,
   "id": "88598b72",
   "metadata": {},
   "outputs": [],
   "source": [
    "repo_id = \"iantc104/testing\"\n",
    "dataset = LeRobotDataset.create(\n",
    "    repo_id=repo_id,\n",
    "    root=f\"outputs/{repo_id}\",\n",
    "    fps=33,\n",
    "    features={\n",
    "        \"left_arm_pose\": {\n",
    "            \"dtype\": \"float32\",\n",
    "            \"shape\": (16,),\n",
    "            \"names\": None,\n",
    "        },\n",
    "        \"right_arm_pose\": {\n",
    "            \"dtype\": \"float32\",\n",
    "            \"shape\": (16,),\n",
    "            \"names\": None,\n",
    "        },\n",
    "    },\n",
    "    image_writer_threads=10,\n",
    "    image_writer_processes=5,\n",
    ")\n",
    "\n",
    "\n"
   ]
  },
  {
   "cell_type": "code",
   "execution_count": 13,
   "id": "ae956191",
   "metadata": {},
   "outputs": [],
   "source": [
    "for i in range(10):\n",
    "    dataset.add_frame({\n",
    "        \"left_arm_pose\": torch.randn(16),  # Example data, replace with actual data\n",
    "        \"right_arm_pose\": torch.zeros(16),  # Example data, replace with actual data\n",
    "    }, task=\"test\")\n"
   ]
  },
  {
   "cell_type": "code",
   "execution_count": 15,
   "id": "2430c092",
   "metadata": {},
   "outputs": [
    {
     "data": {
      "text/plain": [
       "{'size': 10,\n",
       " 'task': ['test',\n",
       "  'test',\n",
       "  'test',\n",
       "  'test',\n",
       "  'test',\n",
       "  'test',\n",
       "  'test',\n",
       "  'test',\n",
       "  'test',\n",
       "  'test'],\n",
       " 'left_arm_pose': [tensor([0., 0., 0., 0., 0., 0., 0., 0., 0., 0., 0., 0., 0., 0., 0., 0.]),\n",
       "  tensor([0., 0., 0., 0., 0., 0., 0., 0., 0., 0., 0., 0., 0., 0., 0., 0.]),\n",
       "  tensor([0., 0., 0., 0., 0., 0., 0., 0., 0., 0., 0., 0., 0., 0., 0., 0.]),\n",
       "  tensor([0., 0., 0., 0., 0., 0., 0., 0., 0., 0., 0., 0., 0., 0., 0., 0.]),\n",
       "  tensor([0., 0., 0., 0., 0., 0., 0., 0., 0., 0., 0., 0., 0., 0., 0., 0.]),\n",
       "  tensor([0., 0., 0., 0., 0., 0., 0., 0., 0., 0., 0., 0., 0., 0., 0., 0.]),\n",
       "  tensor([0., 0., 0., 0., 0., 0., 0., 0., 0., 0., 0., 0., 0., 0., 0., 0.]),\n",
       "  tensor([0., 0., 0., 0., 0., 0., 0., 0., 0., 0., 0., 0., 0., 0., 0., 0.]),\n",
       "  tensor([0., 0., 0., 0., 0., 0., 0., 0., 0., 0., 0., 0., 0., 0., 0., 0.]),\n",
       "  tensor([0., 0., 0., 0., 0., 0., 0., 0., 0., 0., 0., 0., 0., 0., 0., 0.])],\n",
       " 'right_arm_pose': [array([0., 0., 0., 0., 0., 0., 0., 0., 0., 0., 0., 0., 0., 0., 0., 0.],\n",
       "        dtype=float32),\n",
       "  array([0., 0., 0., 0., 0., 0., 0., 0., 0., 0., 0., 0., 0., 0., 0., 0.],\n",
       "        dtype=float32),\n",
       "  array([0., 0., 0., 0., 0., 0., 0., 0., 0., 0., 0., 0., 0., 0., 0., 0.],\n",
       "        dtype=float32),\n",
       "  array([0., 0., 0., 0., 0., 0., 0., 0., 0., 0., 0., 0., 0., 0., 0., 0.],\n",
       "        dtype=float32),\n",
       "  array([0., 0., 0., 0., 0., 0., 0., 0., 0., 0., 0., 0., 0., 0., 0., 0.],\n",
       "        dtype=float32),\n",
       "  array([0., 0., 0., 0., 0., 0., 0., 0., 0., 0., 0., 0., 0., 0., 0., 0.],\n",
       "        dtype=float32),\n",
       "  array([0., 0., 0., 0., 0., 0., 0., 0., 0., 0., 0., 0., 0., 0., 0., 0.],\n",
       "        dtype=float32),\n",
       "  array([0., 0., 0., 0., 0., 0., 0., 0., 0., 0., 0., 0., 0., 0., 0., 0.],\n",
       "        dtype=float32),\n",
       "  array([0., 0., 0., 0., 0., 0., 0., 0., 0., 0., 0., 0., 0., 0., 0., 0.],\n",
       "        dtype=float32),\n",
       "  array([0., 0., 0., 0., 0., 0., 0., 0., 0., 0., 0., 0., 0., 0., 0., 0.],\n",
       "        dtype=float32)],\n",
       " 'timestamp': [0.0,\n",
       "  0.030303030303030304,\n",
       "  0.06060606060606061,\n",
       "  0.09090909090909091,\n",
       "  0.12121212121212122,\n",
       "  0.15151515151515152,\n",
       "  0.18181818181818182,\n",
       "  0.21212121212121213,\n",
       "  0.24242424242424243,\n",
       "  0.2727272727272727],\n",
       " 'frame_index': [0, 1, 2, 3, 4, 5, 6, 7, 8, 9],\n",
       " 'episode_index': 0,\n",
       " 'index': [],\n",
       " 'task_index': []}"
      ]
     },
     "execution_count": 15,
     "metadata": {},
     "output_type": "execute_result"
    }
   ],
   "source": [
    "dataset.episode_buffer['left_arm_pose'] = [torch.zeros(16) for _ in range(10)]\n",
    "dataset.episode_buffer"
   ]
  },
  {
   "cell_type": "code",
   "execution_count": 16,
   "id": "ff3137b4",
   "metadata": {},
   "outputs": [
    {
     "data": {
      "application/vnd.jupyter.widget-view+json": {
       "model_id": "d3a6d4cfe28f4060a612d8a21d215ea8",
       "version_major": 2,
       "version_minor": 0
      },
      "text/plain": [
       "Map:   0%|          | 0/10 [00:00<?, ? examples/s]"
      ]
     },
     "metadata": {},
     "output_type": "display_data"
    },
    {
     "data": {
      "application/vnd.jupyter.widget-view+json": {
       "model_id": "2ed572eecd2e4a4c8644c502ed6555f0",
       "version_major": 2,
       "version_minor": 0
      },
      "text/plain": [
       "Creating parquet from Arrow format:   0%|          | 0/1 [00:00<?, ?ba/s]"
      ]
     },
     "metadata": {},
     "output_type": "display_data"
    }
   ],
   "source": [
    "dataset.save_episode()"
   ]
  },
  {
   "cell_type": "code",
   "execution_count": null,
   "id": "a48614b4",
   "metadata": {},
   "outputs": [],
   "source": [
    "dataset = LeRobotDataset.create(\n",
    "    repo_id=repo_id,\n",
    "    root=f\"outputs/{repo_id}\",\n",
    "    fps=33,\n",
    "    features={\n",
    "        \"left_arm_pose\": {\n",
    "            \"dtype\": \"float32\",\n",
    "            \"shape\": (16,),\n",
    "            \"names\": None,\n",
    "        },\n",
    "        \"right_arm_pose\": {\n",
    "            \"dtype\": \"float32\",\n",
    "            \"shape\": (16,),\n",
    "            \"names\": None,\n",
    "        },\n",
    "    },\n",
    "    image_writer_threads=10,\n",
    "    image_writer_processes=5,\n",
    ")"
   ]
  }
 ],
 "metadata": {
  "kernelspec": {
   "display_name": "gym_av",
   "language": "python",
   "name": "python3"
  },
  "language_info": {
   "codemirror_mode": {
    "name": "ipython",
    "version": 3
   },
   "file_extension": ".py",
   "mimetype": "text/x-python",
   "name": "python",
   "nbconvert_exporter": "python",
   "pygments_lexer": "ipython3",
   "version": "3.10.13"
  }
 },
 "nbformat": 4,
 "nbformat_minor": 5
}
