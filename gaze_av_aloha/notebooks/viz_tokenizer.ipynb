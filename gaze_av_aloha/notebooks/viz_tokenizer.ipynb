{
 "cells": [
  {
   "cell_type": "code",
   "execution_count": null,
   "id": "b7c2cb15",
   "metadata": {},
   "outputs": [
    {
     "name": "stderr",
     "output_type": "stream",
     "text": [
      "/tmp/ipykernel_1628842/2156843835.py:19: UserWarning: \n",
      "The version_base parameter is not specified.\n",
      "Please specify a compatability version level, or None.\n",
      "Will assume defaults for version 1.1\n",
      "  with initialize_config_dir(config_dir=config_dir, job_name=\"my_app\"):\n"
     ]
    }
   ],
   "source": [
    "from hydra import initialize_config_dir, compose\n",
    "from gaze_av_aloha.configs import Config\n",
    "from omegaconf import OmegaConf\n",
    "import gaze_av_aloha\n",
    "from gaze_av_aloha.policies.gaze_policy.gaze_policy import GazePolicy\n",
    "from gym_av_aloha.datasets.av_aloha_dataset import AVAlohaDataset, AVAlohaDatasetMeta\n",
    "from torch.utils.data import DataLoader\n",
    "import matplotlib.pyplot as plt\n",
    "import os\n",
    "\n",
    "# Path to your config directory (adjust as needed)\n",
    "config_dir = os.path.abspath(\"../configs\")\n",
    "\n",
    "overrides = [\n",
    "    \"policy=foveated_vit_policy\",\n",
    "    \"policy.visualize=False\",\n",
    "]\n",
    "\n",
    "with initialize_config_dir(config_dir=config_dir, job_name=\"my_app\"):\n",
    "    cfg: Config = compose(config_name=\"default\", overrides=overrides)\n"
   ]
  },
  {
   "cell_type": "code",
   "execution_count": 3,
   "id": "7340c05d",
   "metadata": {},
   "outputs": [
    {
     "data": {
      "text/plain": [
       "GazePolicy(\n",
       "  (normalize_inputs): Normalize(\n",
       "    (buffer_observation_images_zed_cam_left): ParameterDict(\n",
       "        (mean): Parameter containing: [torch.FloatTensor of size 3x1x1]\n",
       "        (std): Parameter containing: [torch.FloatTensor of size 3x1x1]\n",
       "    )\n",
       "    (buffer_action): ParameterDict(\n",
       "        (max): Parameter containing: [torch.FloatTensor of size 21]\n",
       "        (min): Parameter containing: [torch.FloatTensor of size 21]\n",
       "    )\n",
       "    (buffer_observation_state): ParameterDict(\n",
       "        (max): Parameter containing: [torch.FloatTensor of size 21]\n",
       "        (min): Parameter containing: [torch.FloatTensor of size 21]\n",
       "    )\n",
       "  )\n",
       "  (unnormalize_outputs): Unnormalize(\n",
       "    (buffer_action): ParameterDict(\n",
       "        (max): Parameter containing: [torch.FloatTensor of size 21]\n",
       "        (min): Parameter containing: [torch.FloatTensor of size 21]\n",
       "    )\n",
       "  )\n",
       "  (flow): FlowModel(\n",
       "    (backbone): FoveatedViT(\n",
       "      (tokenizer): FoveatedImageTokenizer(\n",
       "        (foveator): BatchedFoveator()\n",
       "        (resize): Resize(size=(288, 288), interpolation=bilinear, max_size=None, antialias=True)\n",
       "      )\n",
       "      (backbone): ImageEncoder(\n",
       "        (patch_emb): Linear(in_features=768, out_features=768, bias=True)\n",
       "        (blocks): ModuleList(\n",
       "          (0-11): 12 x Block(\n",
       "            (drop_path): DropPath()\n",
       "            (norm1): LayerNorm((768,), eps=1e-05, elementwise_affine=True)\n",
       "            (norm2): LayerNorm((768,), eps=1e-05, elementwise_affine=True)\n",
       "            (attn): MultiheadAttention(\n",
       "              (out_proj): NonDynamicallyQuantizableLinear(in_features=768, out_features=768, bias=True)\n",
       "            )\n",
       "            (mlp): Mlp(\n",
       "              (fc1): Linear(in_features=768, out_features=3072, bias=True)\n",
       "              (act): GELU(approximate='none')\n",
       "              (drop1): Dropout(p=0.0, inplace=False)\n",
       "              (norm): Identity()\n",
       "              (fc2): Linear(in_features=3072, out_features=768, bias=True)\n",
       "              (drop2): Dropout(p=0.0, inplace=False)\n",
       "            )\n",
       "          )\n",
       "        )\n",
       "      )\n",
       "    )\n",
       "    (backbone_proj): Linear(in_features=768, out_features=512, bias=True)\n",
       "    (proprio_proj): Sequential(\n",
       "      (0): Dropout(p=0.1, inplace=False)\n",
       "      (1): Linear(in_features=23, out_features=512, bias=True)\n",
       "      (2): GELU(approximate='none')\n",
       "      (3): Dropout(p=0.1, inplace=False)\n",
       "      (4): Linear(in_features=512, out_features=512, bias=True)\n",
       "      (5): Dropout(p=0.1, inplace=False)\n",
       "    )\n",
       "    (pool): AttentionPooling(\n",
       "      (query_tokens): Embedding(16, 512)\n",
       "      (norm1): LayerNorm((512,), eps=1e-05, elementwise_affine=True)\n",
       "      (blocks): ModuleList(\n",
       "        (0): AttentionPoolingBlock(\n",
       "          (norm2): LayerNorm((512,), eps=1e-05, elementwise_affine=True)\n",
       "          (xattn): MultiheadAttention(\n",
       "            (out_proj): NonDynamicallyQuantizableLinear(in_features=512, out_features=512, bias=True)\n",
       "          )\n",
       "          (norm3): LayerNorm((512,), eps=1e-05, elementwise_affine=True)\n",
       "          (mlp): Mlp(\n",
       "            (fc1): Linear(in_features=512, out_features=2048, bias=True)\n",
       "            (act): GELU(approximate='none')\n",
       "            (drop1): Dropout(p=0.1, inplace=False)\n",
       "            (norm): Identity()\n",
       "            (fc2): Linear(in_features=2048, out_features=512, bias=True)\n",
       "            (drop2): Dropout(p=0.1, inplace=False)\n",
       "          )\n",
       "        )\n",
       "        (1-3): 3 x AttentionPoolingBlock(\n",
       "          (norm1): LayerNorm((512,), eps=1e-05, elementwise_affine=True)\n",
       "          (attn): MultiheadAttention(\n",
       "            (out_proj): NonDynamicallyQuantizableLinear(in_features=512, out_features=512, bias=True)\n",
       "          )\n",
       "          (norm2): LayerNorm((512,), eps=1e-05, elementwise_affine=True)\n",
       "          (xattn): MultiheadAttention(\n",
       "            (out_proj): NonDynamicallyQuantizableLinear(in_features=512, out_features=512, bias=True)\n",
       "          )\n",
       "          (norm3): LayerNorm((512,), eps=1e-05, elementwise_affine=True)\n",
       "          (mlp): Mlp(\n",
       "            (fc1): Linear(in_features=512, out_features=2048, bias=True)\n",
       "            (act): GELU(approximate='none')\n",
       "            (drop1): Dropout(p=0.1, inplace=False)\n",
       "            (norm): Identity()\n",
       "            (fc2): Linear(in_features=2048, out_features=512, bias=True)\n",
       "            (drop2): Dropout(p=0.1, inplace=False)\n",
       "          )\n",
       "        )\n",
       "      )\n",
       "      (norm2): LayerNorm((512,), eps=1e-05, elementwise_affine=True)\n",
       "    )\n",
       "    (s_pos_embed): Embedding(1, 512)\n",
       "    (n_pos_embed): Embedding(1, 512)\n",
       "    (l_pos_embed): Embedding(20, 512)\n",
       "    (noise_proj): Linear(in_features=23, out_features=512, bias=True)\n",
       "    (DiT): DiT(\n",
       "      (time_embed): Sequential(\n",
       "        (0): SinusoidalPosEmb()\n",
       "        (1): Linear(in_features=256, out_features=1024, bias=True)\n",
       "        (2): Mish()\n",
       "        (3): Linear(in_features=1024, out_features=512, bias=True)\n",
       "      )\n",
       "      (blocks): ModuleList(\n",
       "        (0-7): 8 x DiTBlock(\n",
       "          (norm1): LayerNorm((512,), eps=1e-06, elementwise_affine=False)\n",
       "          (attn): MultiheadAttention(\n",
       "            (out_proj): NonDynamicallyQuantizableLinear(in_features=512, out_features=512, bias=True)\n",
       "          )\n",
       "          (norm2): LayerNorm((512,), eps=1e-06, elementwise_affine=False)\n",
       "          (xattn): MultiheadAttention(\n",
       "            (out_proj): NonDynamicallyQuantizableLinear(in_features=512, out_features=512, bias=True)\n",
       "          )\n",
       "          (norm3): LayerNorm((512,), eps=1e-06, elementwise_affine=False)\n",
       "          (mlp): Mlp(\n",
       "            (fc1): Linear(in_features=512, out_features=2048, bias=True)\n",
       "            (act): GELU(approximate='tanh')\n",
       "            (drop1): Dropout(p=0.1, inplace=False)\n",
       "            (norm): Identity()\n",
       "            (fc2): Linear(in_features=2048, out_features=512, bias=True)\n",
       "            (drop2): Dropout(p=0.1, inplace=False)\n",
       "          )\n",
       "          (adaLN_modulation): Sequential(\n",
       "            (0): SiLU()\n",
       "            (1): Linear(in_features=512, out_features=3072, bias=True)\n",
       "          )\n",
       "        )\n",
       "      )\n",
       "      (final_layer): FinalLayer(\n",
       "        (norm_final): LayerNorm((512,), eps=1e-06, elementwise_affine=False)\n",
       "        (linear): Linear(in_features=512, out_features=23, bias=True)\n",
       "        (adaLN_modulation): Sequential(\n",
       "          (0): SiLU()\n",
       "          (1): Linear(in_features=512, out_features=1024, bias=True)\n",
       "        )\n",
       "      )\n",
       "    )\n",
       "    (dit_pos_embed): Embedding(17, 512)\n",
       "  )\n",
       ")"
      ]
     },
     "execution_count": 3,
     "metadata": {},
     "output_type": "execute_result"
    }
   ],
   "source": [
    "dataset_meta = AVAlohaDatasetMeta(repo_id=cfg.task.dataset_repo_id, root=cfg.task.dataset_root)\n",
    "policy = GazePolicy(cfg.policy, cfg.task, dataset_meta.stats)\n",
    "policy.eval()"
   ]
  },
  {
   "cell_type": "code",
   "execution_count": null,
   "id": "dfd7b38f",
   "metadata": {},
   "outputs": [
    {
     "name": "stdout",
     "output_type": "stream",
     "text": [
      "env_state: (14,), state: (21,)\n"
     ]
    }
   ],
   "source": []
  },
  {
   "cell_type": "code",
   "execution_count": null,
   "id": "d951b782",
   "metadata": {},
   "outputs": [],
   "source": [
    "\n",
    "# import gym_av_aloha\n",
    "# import gymnasium as gym\n",
    "# env_kwargs = {\n",
    "#     \"disable_env_checker\" : True,\n",
    "#     \"fps\" : 8.333333333333,\n",
    "#     \"cameras\" : {\"zed_cam_left\" : [480, 640]},\n",
    "#     \"render_camera\" : \"zed_cam_left\" ,\n",
    "#     \"enable_av\" : True,\n",
    "#     \"max_episode_steps\" : 100,\n",
    "# }\n",
    "\n",
    "# viz_env = gym.make(\n",
    "#     f\"gym_av_aloha/thread-needle-v1\",\n",
    "#     **env_kwargs\n",
    "# )\n",
    "# obs, info = viz_env.reset(options={\"distractors\": True})"
   ]
  },
  {
   "cell_type": "code",
   "execution_count": null,
   "id": "339b86f4",
   "metadata": {},
   "outputs": [],
   "source": [
    "# viz_env.unwrapped.set_state(state, env_state)\n",
    "# obs, reward, terminated, truncated, info = viz_env.step(state)\n",
    "# viz = obs[\"pixels\"][\"zed_cam_left\"]\n",
    "\n"
   ]
  },
  {
   "cell_type": "code",
   "execution_count": 33,
   "id": "261c901c",
   "metadata": {},
   "outputs": [
    {
     "data": {
      "application/vnd.jupyter.widget-view+json": {
       "model_id": "266badd5219b40dd855e60343a082346",
       "version_major": 2,
       "version_minor": 0
      },
      "text/plain": [
       "Fetching 21 files:   0%|          | 0/21 [00:00<?, ?it/s]"
      ]
     },
     "metadata": {},
     "output_type": "display_data"
    },
    {
     "data": {
      "application/vnd.jupyter.widget-view+json": {
       "model_id": "0fd7489fff774c289ea275c1b99c77c1",
       "version_major": 2,
       "version_minor": 0
      },
      "text/plain": [
       "episode_000060.parquet:   0%|          | 0.00/126k [00:00<?, ?B/s]"
      ]
     },
     "metadata": {},
     "output_type": "display_data"
    },
    {
     "data": {
      "application/vnd.jupyter.widget-view+json": {
       "model_id": "00978cf783dd4569a43cf057af8531bf",
       "version_major": 2,
       "version_minor": 0
      },
      "text/plain": [
       "episode_000050.parquet:   0%|          | 0.00/141k [00:00<?, ?B/s]"
      ]
     },
     "metadata": {},
     "output_type": "display_data"
    },
    {
     "data": {
      "application/vnd.jupyter.widget-view+json": {
       "model_id": "e70d858af83c457baef78e24cbd0c05a",
       "version_major": 2,
       "version_minor": 0
      },
      "text/plain": [
       "episode_000060.mp4:   0%|          | 0.00/3.11M [00:00<?, ?B/s]"
      ]
     },
     "metadata": {},
     "output_type": "display_data"
    },
    {
     "data": {
      "application/vnd.jupyter.widget-view+json": {
       "model_id": "1574a518a21a484eab00830c9d9cf73b",
       "version_major": 2,
       "version_minor": 0
      },
      "text/plain": [
       "episode_000055.mp4:   0%|          | 0.00/2.13M [00:00<?, ?B/s]"
      ]
     },
     "metadata": {},
     "output_type": "display_data"
    },
    {
     "data": {
      "application/vnd.jupyter.widget-view+json": {
       "model_id": "294ebfdbfd6348d19434e9a6fd0f7dff",
       "version_major": 2,
       "version_minor": 0
      },
      "text/plain": [
       "episode_000055.parquet:   0%|          | 0.00/87.7k [00:00<?, ?B/s]"
      ]
     },
     "metadata": {},
     "output_type": "display_data"
    },
    {
     "data": {
      "application/vnd.jupyter.widget-view+json": {
       "model_id": "e6a2563d40814b30b883f4146da833be",
       "version_major": 2,
       "version_minor": 0
      },
      "text/plain": [
       "episode_000050.mp4:   0%|          | 0.00/3.52M [00:00<?, ?B/s]"
      ]
     },
     "metadata": {},
     "output_type": "display_data"
    },
    {
     "data": {
      "application/vnd.jupyter.widget-view+json": {
       "model_id": "1e4308cbbcf6470f8f30df570a895481",
       "version_major": 2,
       "version_minor": 0
      },
      "text/plain": [
       "episode_000050.mp4:   0%|          | 0.00/1.20M [00:00<?, ?B/s]"
      ]
     },
     "metadata": {},
     "output_type": "display_data"
    },
    {
     "data": {
      "application/vnd.jupyter.widget-view+json": {
       "model_id": "c23fe389f7554ade8a17bdc0d47a02d2",
       "version_major": 2,
       "version_minor": 0
      },
      "text/plain": [
       "episode_000055.mp4:   0%|          | 0.00/731k [00:00<?, ?B/s]"
      ]
     },
     "metadata": {},
     "output_type": "display_data"
    },
    {
     "data": {
      "application/vnd.jupyter.widget-view+json": {
       "model_id": "9972bbf6b8a9478ea90cc156e830a668",
       "version_major": 2,
       "version_minor": 0
      },
      "text/plain": [
       "episode_000050.mp4:   0%|          | 0.00/1.90M [00:00<?, ?B/s]"
      ]
     },
     "metadata": {},
     "output_type": "display_data"
    },
    {
     "data": {
      "application/vnd.jupyter.widget-view+json": {
       "model_id": "62b1b9f5804a4b8a9de8311b1bb67a9e",
       "version_major": 2,
       "version_minor": 0
      },
      "text/plain": [
       "episode_000060.mp4:   0%|          | 0.00/1.03M [00:00<?, ?B/s]"
      ]
     },
     "metadata": {},
     "output_type": "display_data"
    },
    {
     "data": {
      "application/vnd.jupyter.widget-view+json": {
       "model_id": "2bf6bc9314564e789a9ce7e2e476d5ba",
       "version_major": 2,
       "version_minor": 0
      },
      "text/plain": [
       "episode_000055.mp4:   0%|          | 0.00/1.24M [00:00<?, ?B/s]"
      ]
     },
     "metadata": {},
     "output_type": "display_data"
    },
    {
     "data": {
      "application/vnd.jupyter.widget-view+json": {
       "model_id": "4322d729ea9f493f9be5ccfb7d1cf047",
       "version_major": 2,
       "version_minor": 0
      },
      "text/plain": [
       "episode_000060.mp4:   0%|          | 0.00/1.94M [00:00<?, ?B/s]"
      ]
     },
     "metadata": {},
     "output_type": "display_data"
    },
    {
     "data": {
      "application/vnd.jupyter.widget-view+json": {
       "model_id": "b7b02ed460cc43f1b89e59998fe5da35",
       "version_major": 2,
       "version_minor": 0
      },
      "text/plain": [
       "episode_000055.mp4:   0%|          | 0.00/1.31M [00:00<?, ?B/s]"
      ]
     },
     "metadata": {},
     "output_type": "display_data"
    },
    {
     "data": {
      "application/vnd.jupyter.widget-view+json": {
       "model_id": "534da0648f994768b6a0d2bab77079fa",
       "version_major": 2,
       "version_minor": 0
      },
      "text/plain": [
       "episode_000050.mp4:   0%|          | 0.00/2.09M [00:00<?, ?B/s]"
      ]
     },
     "metadata": {},
     "output_type": "display_data"
    },
    {
     "data": {
      "application/vnd.jupyter.widget-view+json": {
       "model_id": "9d0da9df29ba47338062edf1407b0f88",
       "version_major": 2,
       "version_minor": 0
      },
      "text/plain": [
       "episode_000060.mp4:   0%|          | 0.00/1.92M [00:00<?, ?B/s]"
      ]
     },
     "metadata": {},
     "output_type": "display_data"
    },
    {
     "data": {
      "application/vnd.jupyter.widget-view+json": {
       "model_id": "0a6048718932462c8f6b26279eaa21d9",
       "version_major": 2,
       "version_minor": 0
      },
      "text/plain": [
       "episode_000055.mp4:   0%|          | 0.00/1.27M [00:00<?, ?B/s]"
      ]
     },
     "metadata": {},
     "output_type": "display_data"
    },
    {
     "data": {
      "application/vnd.jupyter.widget-view+json": {
       "model_id": "0336ac30bf0c4c3690bf2ce95e3c2d51",
       "version_major": 2,
       "version_minor": 0
      },
      "text/plain": [
       "episode_000050.mp4:   0%|          | 0.00/2.17M [00:00<?, ?B/s]"
      ]
     },
     "metadata": {},
     "output_type": "display_data"
    },
    {
     "data": {
      "application/vnd.jupyter.widget-view+json": {
       "model_id": "f4ecfa04c0f44e7ba39765f97a7fb93f",
       "version_major": 2,
       "version_minor": 0
      },
      "text/plain": [
       "episode_000060.mp4:   0%|          | 0.00/1.98M [00:00<?, ?B/s]"
      ]
     },
     "metadata": {},
     "output_type": "display_data"
    },
    {
     "data": {
      "application/vnd.jupyter.widget-view+json": {
       "model_id": "22b6498b5677486ba7a40ebc4fca9fb8",
       "version_major": 2,
       "version_minor": 0
      },
      "text/plain": [
       "episode_000050.mp4:   0%|          | 0.00/2.16M [00:00<?, ?B/s]"
      ]
     },
     "metadata": {},
     "output_type": "display_data"
    },
    {
     "data": {
      "application/vnd.jupyter.widget-view+json": {
       "model_id": "12f049edf48a4cda8733539f8bc363d4",
       "version_major": 2,
       "version_minor": 0
      },
      "text/plain": [
       "episode_000055.mp4:   0%|          | 0.00/1.28M [00:00<?, ?B/s]"
      ]
     },
     "metadata": {},
     "output_type": "display_data"
    },
    {
     "data": {
      "application/vnd.jupyter.widget-view+json": {
       "model_id": "90731814fb964fd8bf82899a3d4fb93f",
       "version_major": 2,
       "version_minor": 0
      },
      "text/plain": [
       "episode_000060.mp4:   0%|          | 0.00/1.98M [00:00<?, ?B/s]"
      ]
     },
     "metadata": {},
     "output_type": "display_data"
    },
    {
     "data": {
      "application/vnd.jupyter.widget-view+json": {
       "model_id": "0d825ce95e5d466b9e9e0f2f6f74217c",
       "version_major": 2,
       "version_minor": 0
      },
      "text/plain": [
       "Generating train split: 0 examples [00:00, ? examples/s]"
      ]
     },
     "metadata": {},
     "output_type": "display_data"
    }
   ],
   "source": [
    "\n",
    "from lerobot.common.datasets.lerobot_dataset import LeRobotDataset\n",
    "import matplotlib.pyplot as plt\n",
    "\n",
    "dataset = LeRobotDataset(\n",
    "    repo_id=\"iantc104/av_aloha_sim_hook_package\",\n",
    "    episodes=[50,55,60],\n",
    ")\n",
    "\n",
    "\n"
   ]
  },
  {
   "cell_type": "code",
   "execution_count": null,
   "id": "b2b4ecd1",
   "metadata": {},
   "outputs": [
    {
     "name": "stderr",
     "output_type": "stream",
     "text": [
      "  0%|          | 0/639 [00:00<?, ?it/s]"
     ]
    },
    {
     "name": "stdout",
     "output_type": "stream",
     "text": [
      "(288, 360, 3)\n"
     ]
    },
    {
     "name": "stderr",
     "output_type": "stream",
     "text": [
      "\n"
     ]
    }
   ],
   "source": [
    "from gaze_av_aloha.policies.gaze_policy.tokenizer import BaseImageTokenizer, FoveatedImageTokenizer\n",
    "import torch\n",
    "import imageio\n",
    "from tqdm import tqdm\n",
    "import torchvision\n",
    "import numpy as np\n",
    "\n",
    "resize  = torchvision.transforms.Resize((288, 360))\n",
    "resize1  = torchvision.transforms.Resize((288, 384))\n",
    "\n",
    "video = []\n",
    "\n",
    "for i in tqdm(range(len(dataset))):\n",
    "    gaze = dataset[i][\"left_eye\"].unsqueeze(0)\n",
    "    img = dataset[i][\"observation.images.zed_cam_left\"].unsqueeze(0)\n",
    "\n",
    "    tokenizer = FoveatedImageTokenizer()\n",
    "    tokens, _ = tokenizer.tokenize(img, gaze)\n",
    "    blah = tokenizer.generate_visualization(tokens[0])\n",
    "    fov = (blah.permute(1, 2, 0).numpy() * 255).astype('uint8')\n",
    "\n",
    "    # tokenizer = FoveatedImageTokenizer()\n",
    "    tokenizer = BaseImageTokenizer()\n",
    "    tokens, _ = tokenizer.tokenize(img, gaze)\n",
    "    blah = tokenizer.generate_visualization(tokens[0])\n",
    "    fine = (blah.permute(1, 2, 0).numpy() * 255).astype('uint8')\n",
    "\n",
    "\n",
    "    tokenizer = BaseImageTokenizer(\n",
    "        token_size = 64,\n",
    "        height = 256,\n",
    "        width = 320,\n",
    "    )\n",
    "    tokens, _ = tokenizer.tokenize(img, gaze)\n",
    "    blah = tokenizer.generate_visualization(tokens[0])\n",
    "    blah = resize(blah.unsqueeze(0)).squeeze(0)\n",
    "    coarse = (blah.permute(1, 2, 0).numpy() * 255).astype('uint8')\n",
    "\n",
    "    img = resize(img)\n",
    "    actual = (img[0].permute(1, 2, 0).numpy() * 255).astype('uint8')\n",
    "    \n",
    "    video.append(np.conca)\n",
    "    break\n",
    "\n",
    "imageio.mimwrite(\"video.mp4\", video, fps=25)"
   ]
  },
  {
   "cell_type": "code",
   "execution_count": null,
   "id": "e0ad6f65",
   "metadata": {},
   "outputs": [],
   "source": []
  },
  {
   "cell_type": "code",
   "execution_count": 161,
   "id": "8cbd5296",
   "metadata": {},
   "outputs": [],
   "source": [
    "from lerobot.common.datasets.lerobot_dataset import LeRobotDataset\n",
    "import matplotlib.pyplot as plt\n",
    "\n",
    "dataset = LeRobotDataset(\n",
    "    repo_id=\"iantc104/av_aloha_sim_cube_transfer\",\n",
    "    episodes=[51],\n",
    ")\n",
    "\n",
    "\n",
    "import gym_av_aloha\n",
    "import gymnasium as gym\n",
    "import numpy as np\n",
    "env_kwargs = {\n",
    "    \"disable_env_checker\" : True,\n",
    "    \"fps\" : 8.333333333333,\n",
    "    \"cameras\" : {\"zed_cam_left\" : [480, 640]},\n",
    "    \"render_camera\" : \"zed_cam_left\" ,\n",
    "    \"enable_av\" : True,\n",
    "    \"max_episode_steps\" : 100,\n",
    "}\n",
    "\n",
    "viz_env = gym.make(\n",
    "    f\"gym_av_aloha/cube-transfer-v1\",\n",
    "    **env_kwargs\n",
    ")\n",
    "np.random.seed(0)\n",
    "# obs, info = viz_env.reset(options={\"distractors\": True})\n",
    "obs, info = viz_env.reset()\n",
    "\n",
    "\n"
   ]
  },
  {
   "cell_type": "code",
   "execution_count": 162,
   "id": "e6d0f303",
   "metadata": {},
   "outputs": [
    {
     "data": {
      "image/png": "[encoded data removed]",
      "text/plain": [
       "<IPython.core.display.Image object>"
      ]
     },
     "metadata": {},
     "output_type": "display_data"
    }
   ],
   "source": [
    "i = 40\n",
    "state = dataset[i][\"observation.state\"]\n",
    "env_state = dataset[i][\"observation.environment_state\"]\n",
    "\n",
    "import matplotlib.pyplot as plt\n",
    "\n",
    "viz_env.unwrapped.set_state(state, env_state)\n",
    "\n",
    "\n",
    "\n",
    "from IPython.display import Image, display\n",
    "plt.imsave(\"temp_image.png\", viz_env.render())\n",
    "display(Image(filename=\"temp_image.png\"))"
   ]
  },
  {
   "cell_type": "code",
   "execution_count": null,
   "id": "0c5d057e",
   "metadata": {},
   "outputs": [],
   "source": []
  }
 ],
 "metadata": {
  "kernelspec": {
   "display_name": "gaze",
   "language": "python",
   "name": "python3"
  },
  "language_info": {
   "codemirror_mode": {
    "name": "ipython",
    "version": 3
   },
   "file_extension": ".py",
   "mimetype": "text/x-python",
   "name": "python",
   "nbconvert_exporter": "python",
   "pygments_lexer": "ipython3",
   "version": "3.10.16"
  }
 },
 "nbformat": 4,
 "nbformat_minor": 5
}
