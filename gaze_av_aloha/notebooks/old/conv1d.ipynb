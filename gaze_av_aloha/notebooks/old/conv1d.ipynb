{
 "cells": [
  {
   "cell_type": "code",
   "execution_count": 6,
   "id": "7fa42bda",
   "metadata": {},
   "outputs": [
    {
     "name": "stdout",
     "output_type": "stream",
     "text": [
      "torch.Size([1, 64, 63])\n",
      "torch.Size([1, 64, 32])\n",
      "torch.Size([1, 64, 63])\n"
     ]
    }
   ],
   "source": [
    "import torch \n",
    "from torch import nn\n",
    "\n",
    "dim = 64\n",
    "\n",
    "down = nn.Conv1d(dim, dim, 3, 2, 1)\n",
    "\n",
    "up = nn.ConvTranspose1d(dim, dim, 3, 2, 1)\n",
    "\n",
    "x = torch.randn(1, dim, 63)\n",
    "print(x.shape)\n",
    "print(down(x).shape)\n",
    "print(up(down(x)).shape)\n"
   ]
  },
  {
   "cell_type": "code",
   "execution_count": null,
   "id": "88dda355",
   "metadata": {},
   "outputs": [],
   "source": []
  }
 ],
 "metadata": {
  "kernelspec": {
   "display_name": "gaze",
   "language": "python",
   "name": "python3"
  },
  "language_info": {
   "codemirror_mode": {
    "name": "ipython",
    "version": 3
   },
   "file_extension": ".py",
   "mimetype": "text/x-python",
   "name": "python",
   "nbconvert_exporter": "python",
   "pygments_lexer": "ipython3",
   "version": "3.10.13"
  }
 },
 "nbformat": 4,
 "nbformat_minor": 5
}
