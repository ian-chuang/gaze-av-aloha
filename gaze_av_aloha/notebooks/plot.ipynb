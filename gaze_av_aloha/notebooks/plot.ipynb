{
 "cells": [
  {
   "cell_type": "code",
   "execution_count": 1,
   "id": "a30b7a1b",
   "metadata": {},
   "outputs": [],
   "source": [
    "import wandb\n",
    "import re\n",
    "\n",
    "api = wandb.Api()"
   ]
  },
  {
   "cell_type": "code",
   "execution_count": 2,
   "id": "0d1f266a",
   "metadata": {},
   "outputs": [],
   "source": [
    "entity = \"ianc-uc-berkeley\"    # e.g., \"myusername\" or \"myteam\"\n",
    "project = \"vit-scratch-sim\"  # e.g., \"myproject\"\n",
    "job_name = \"cube_mae_low_res_vit_v2\""
   ]
  },
  {
   "cell_type": "code",
   "execution_count": 3,
   "id": "b50ee86a",
   "metadata": {},
   "outputs": [],
   "source": [
    "env_names = [\n",
    "    \"cube\",\n",
    "    \"peg\",\n",
    "    \"slot\",\n",
    "    \"hook\",\n",
    "    \"pour\",\n",
    "    \"thread\",\n",
    "]\n",
    "policy_names = [\n",
    "    \"vit_v2\",\n",
    "    \"low_res_vit_v2\",\n",
    "    \"foveated_v2\",\n",
    "    \"2stage_foveated_v3\",\n",
    "    \"mae_vit_v2\",\n",
    "    \"mae_low_res_vit_v2\",\n",
    "    \"mae_foveated_v2\",\n",
    "    \"mae_2stage_foveated_v3\",\n",
    "]"
   ]
  },
  {
   "cell_type": "code",
   "execution_count": null,
   "id": "3abb73b9",
   "metadata": {},
   "outputs": [
    {
     "name": "stderr",
     "output_type": "stream",
     "text": [
      "100%|██████████| 79/79 [00:25<00:00,  3.07it/s]\n"
     ]
    }
   ],
   "source": [
    "from tqdm import tqdm\n",
    "run_data = {}\n",
    "runs = api.runs(f\"{entity}/{project}\")\n",
    "for run in tqdm(runs):\n",
    "    history = run.history(pandas=True)\n",
    "    # Get columns that match patterns\n",
    "    distractor_cols = [col for col in history.columns if re.match(r'eval/pc_success.*distractors', col)][0]\n",
    "    iid_cols = [col for col in history.columns if re.match(r'eval/pc_success.*iid', col)][0]\n",
    "    data = {\n",
    "        \"standard\": history[iid_cols].max(),\n",
    "        \"distractors\": history[distractor_cols].max(),\n",
    "    }\n",
    "    run_data[run.name] = data\n"
   ]
  },
  {
   "cell_type": "code",
   "execution_count": 12,
   "id": "90d1360f",
   "metadata": {},
   "outputs": [
    {
     "name": "stdout",
     "output_type": "stream",
     "text": [
      "standard\n",
      "46 76 68 66 66 36 68 60 //\n",
      "12 18 26 28 10 22 34 22 //\n",
      "54 44 56 52 64 54 57 64 //\n",
      "32 24 14 54 52 30 28 57 //\n",
      "12 30 68 38 32 34 46 30 //\n",
      "24 32 56 56 48 40 68 70 //\n",
      "distractors\n",
      "72 98 68 100 100 100 90 100 //\n",
      "26 32 26 32 40 32 38 32 //\n",
      "56 57 60 60 57 66 64 70 //\n",
      "28 18 12 56 68 56 30 57 //\n",
      "34 60 78 84 68 78 80 92 //\n",
      "57 48 62 74 84 66 74 92 //\n"
     ]
    }
   ],
   "source": [
    "for key in [\"standard\", \"distractors\"]:\n",
    "    print(key)\n",
    "    for env_name in env_names:\n",
    "        row = \"\"\n",
    "        for policy_name in policy_names:\n",
    "            row += str(int(run_data[f\"{env_name}_{policy_name}\"][key])) + \" \"\n",
    "        row += \"//\"\n",
    "        print(row)\n",
    "\n"
   ]
  },
  {
   "cell_type": "code",
   "execution_count": null,
   "id": "64fc3b1c",
   "metadata": {},
   "outputs": [],
   "source": [
    "\n",
    "# runs = api.runs(f\"{entity}/{project}\")\n",
    "# print(\"All run names:\")\n",
    "# for r in runs:\n",
    "#     print(r.name)\n",
    "\n",
    "for run in runs:\n",
    "    print(f\"Run ID: {run.id}\")\n",
    "    print(f\"Config: {run.config}\")\n",
    "    print(f\"Summary metrics: {run.summary}\")\n",
    "    # To get full history of a metric\n",
    "    history = run.history(keys=[\"loss\", \"accuracy\"], pandas=True)  # keys optional\n",
    "    print(history)\n"
   ]
  },
  {
   "cell_type": "code",
   "execution_count": null,
   "id": "debcdcd4",
   "metadata": {},
   "outputs": [],
   "source": []
  }
 ],
 "metadata": {
  "kernelspec": {
   "display_name": "gaze",
   "language": "python",
   "name": "python3"
  },
  "language_info": {
   "codemirror_mode": {
    "name": "ipython",
    "version": 3
   },
   "file_extension": ".py",
   "mimetype": "text/x-python",
   "name": "python",
   "nbconvert_exporter": "python",
   "pygments_lexer": "ipython3",
   "version": "3.10.13"
  }
 },
 "nbformat": 4,
 "nbformat_minor": 5
}
